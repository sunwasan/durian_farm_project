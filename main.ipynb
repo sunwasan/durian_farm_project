{
 "cells": [
  {
   "cell_type": "code",
   "execution_count": 168,
   "metadata": {},
   "outputs": [],
   "source": [
    "# pip install requests Pillow\n",
    "import requests\n",
    "from PIL import Image  # pillow package (Python Image Library)\n",
    "import io"
   ]
  },
  {
   "cell_type": "code",
   "execution_count": 1,
   "metadata": {},
   "outputs": [],
   "source": [
    "tree_ids = [\"s1\",\"t1\",\"u6\",\"w6\"]\n",
    "letters = [\"q\",\"r\",\"s\",\"t\"]\n",
    "for i in range(2,7):\n",
    "    for letter in letters:\n",
    "        tree_ids.append(f\"{letter}{i}\")\n",
    "    "
   ]
  },
  {
   "cell_type": "code",
   "execution_count": 247,
   "metadata": {},
   "outputs": [],
   "source": [
    "import os\n",
    "import qrcode\n",
    "import segno\n",
    "from PIL import Image, ImageDraw, ImageFont\n",
    "# define the table IDs\n",
    "FORM_URL = \"https://docs.google.com/forms/d/e/1FAIpQLSe1FTr6sS8n1MBEPRSq3Dd5DN8Rg7WJjMcgjjVXhym8RMLeNg/viewform?usp=pp_url\"\n",
    "QUESTION_ID = \"1380573461\"\n",
    "\n",
    "\n",
    "# loop through each table ID\n",
    "for tree_id in tree_ids:\n",
    "    # create pre-filled link with the table ID\n",
    "    link = f\"{FORM_URL}&entry.{QUESTION_ID}={tree_id}\"\n",
    "    out = io.BytesIO()\n",
    "    segno.make(link, error='h').save(out,scale=4,kind='png')\n",
    "    img = Image.open(out).convert('RGBA')\n",
    "    alpha = img.split()[-1]\n",
    "    alpha_mask = Image.eval(alpha, lambda a: 255 if a == 255 else 0)\n",
    "    img.putalpha(alpha_mask)\n",
    "    width , height = img.size\n",
    "    font = ImageFont.truetype('l_10646.ttf', 24)\n",
    "    background = Image.new('RGBA', (width+1, height+50), (255,255,255,255))\n",
    "    from PIL import ImageDraw\n",
    "    draw = ImageDraw.Draw(background)\n",
    "    draw.text((10,10), tree_id, (0,0,0))\n",
    "    background.paste(img, (0,20))\n",
    "\n",
    "    filename = os.path.join(\"qr\", f\"{tree_id}.png\")\n",
    "    background.save(filename)\n",
    "\n"
   ]
  },
  {
   "attachments": {},
   "cell_type": "markdown",
   "metadata": {},
   "source": [
    "# Generate Data base"
   ]
  },
  {
   "cell_type": "code",
   "execution_count": 114,
   "metadata": {},
   "outputs": [],
   "source": [
    "import pandas as pd\n",
    "import numpy as np\n",
    "from itertools import chain"
   ]
  },
  {
   "cell_type": "code",
   "execution_count": null,
   "metadata": {},
   "outputs": [],
   "source": [
    "dfs = []"
   ]
  },
  {
   "cell_type": "code",
   "execution_count": 115,
   "metadata": {},
   "outputs": [],
   "source": [
    "def gen_id(letters,begin,end):\n",
    "    id_ = []\n",
    "    for i in range(begin,end+1):\n",
    "        for letter in letters:\n",
    "            id_.append(f\"{letter}{i}\")\n",
    "    return np.array(id_)"
   ]
  },
  {
   "cell_type": "code",
   "execution_count": 129,
   "metadata": {},
   "outputs": [],
   "source": [
    "ids = []\n",
    "ids.append(gen_id(['s','t','u','w'],16,20))\n",
    "ids = list(chain.from_iterable(ids))\n",
    "dfs.append(pd.DataFrame({\"Tree ID\":ids,\"Type\":\"Mhon Thong\",\"Zone\":\"F\"}))"
   ]
  }
 ],
 "metadata": {
  "kernelspec": {
   "display_name": "Python 3",
   "language": "python",
   "name": "python3"
  },
  "language_info": {
   "codemirror_mode": {
    "name": "ipython",
    "version": 3
   },
   "file_extension": ".py",
   "mimetype": "text/x-python",
   "name": "python",
   "nbconvert_exporter": "python",
   "pygments_lexer": "ipython3",
   "version": "3.11.2"
  },
  "orig_nbformat": 4,
  "vscode": {
   "interpreter": {
    "hash": "784a5009af748d830ac6741cfffbeaa8e5f9aef700cf1b176f86efd32be46084"
   }
  }
 },
 "nbformat": 4,
 "nbformat_minor": 2
}
